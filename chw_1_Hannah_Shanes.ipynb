{
  "nbformat": 4,
  "nbformat_minor": 0,
  "metadata": {
    "kernelspec": {
      "display_name": "Python 3",
      "language": "python",
      "name": "python3"
    },
    "language_info": {
      "codemirror_mode": {
        "name": "ipython",
        "version": 3
      },
      "file_extension": ".py",
      "mimetype": "text/x-python",
      "name": "python",
      "nbconvert_exporter": "python",
      "pygments_lexer": "ipython3",
      "version": "3.7.9-final"
    },
    "colab": {
      "name": "chw-1_Hannah_Shanes.ipynb",
      "provenance": [],
      "collapsed_sections": [],
      "include_colab_link": true
    }
  },
  "cells": [
    {
      "cell_type": "markdown",
      "metadata": {
        "id": "view-in-github",
        "colab_type": "text"
      },
      "source": [
        "<a href=\"https://colab.research.google.com/github/hshanes/wustl-math450/blob/main/chw_1_Hannah_Shanes.ipynb\" target=\"_parent\"><img src=\"https://colab.research.google.com/assets/colab-badge.svg\" alt=\"Open In Colab\"/></a>"
      ]
    },
    {
      "cell_type": "markdown",
      "metadata": {
        "id": "r8X-nVmUD0Rh"
      },
      "source": [
        "# Homework 1: Transition from NumPy to PyTorch\n",
        "\n",
        "Name: Hannah Shanes\n",
        "\n",
        "Wustlkey: hshanes\n",
        "\n",
        "Partner Name (if applicable):\n",
        "\n",
        "Partner Wustlkey (if applicable):\n",
        "\n",
        "### Submission instructions\n",
        "\n",
        "- Submit the modified python notebook as homework submission.\n",
        "- Group submission is enabled, you can submit this coding assignment with up to 1 teammate in our class. For instruction of how to do a group submission. Please refer to Canvas useful links.\n",
        "- Do not change the number of cells! Please work in the cell provided. If we need extra cells for debugging and testing purposes, we can work at the end of this notebook, save everything as a backup for review, and delete the extra cells in the submitted version.\n",
        "\n",
        " \n",
        "\n",
        "### Instructions\n",
        "Do **not** use for loops in any of our solutions! Efficieny will be graded as well. For example if a problem asks us generate an array from 0 to 9: then\n",
        "```python\n",
        "x = []\n",
        "for i in range(10):\n",
        "    x.append(i)\n",
        "```\n",
        "this will only result a partial credit while\n",
        "```python\n",
        "x = np.arange(10)\n",
        "```\n",
        "or\n",
        "```python\n",
        "x = torch.arange(10)\n",
        "```\n",
        "will yield a full score.\n",
        "\n",
        "### Problems\n",
        "Below are 6 problems that explore different common used tools in Numpy and how to translate them into Torch codes. Each problem gives examples demonstrating the concept and has an associated coding task. Complete the coding tasks for credit.\n",
        "\n",
        "### Grading\n",
        "This homework has 6 problems, 4 points each for problem 1-5 and 10 points for the last problem. The homework will be graded and the grade counts towards your course grade. The homework will weigh 50% compared to the subsequent assignemnts (it's not fully weighted...). \n",
        "\n",
        "## Coding environments and submission\n",
        "If we do not have `torch` installed on your computer, we have three ways to upload this notebook to [Google colab](https://colab.research.google.com/)：\n",
        "\n",
        "1. Open up Google Colab, choose `Upload` to upload this template and work there. After we have done working we can select `File->Download .ipynb`.\n",
        "2. Open up Google Colab, choose either `GitHub` or `Google Drive` to select the uploaded notebook in the corresponding website. After done working, we can sync the file to the corresponding GitHub or Google Drive copy."
      ]
    },
    {
      "cell_type": "code",
      "metadata": {
        "id": "4PM2CkpAD0Rk"
      },
      "source": [
        "# Run Me First\n",
        "import numpy as np\n",
        "import torch"
      ],
      "execution_count": 1,
      "outputs": []
    },
    {
      "cell_type": "markdown",
      "metadata": {
        "id": "R_K3ciT3D0Rk"
      },
      "source": [
        "## 1D Basic Array Functions\n",
        "### Examples"
      ]
    },
    {
      "cell_type": "code",
      "metadata": {
        "id": "Xd6QdI67D0Rl"
      },
      "source": [
        "arr1 = torch.tensor([\n",
        "    55.70000076,  51.40000153,  50.5       ,  75.69999695,\n",
        "    58.40000153,  40.09999847,  61.5       ,  57.09999847,\n",
        "    60.90000153,  66.59999847,  60.40000153,  68.09999847,\n",
        "    66.90000153,  53.40000153,  48.59999847,  56.79999924,\n",
        "    71.59999847,  58.40000153,  70.40000153,  41.20000076\n",
        "])"
      ],
      "execution_count": 3,
      "outputs": []
    },
    {
      "cell_type": "code",
      "metadata": {
        "id": "k38p2zcRD0Rl",
        "colab": {
          "base_uri": "https://localhost:8080/"
        },
        "outputId": "74454e95-770e-48a9-f892-bf8ff19f8b89"
      },
      "source": [
        "# Accessing elements\n",
        "print(arr1[0])\n",
        "print(arr1[3])"
      ],
      "execution_count": 4,
      "outputs": [
        {
          "output_type": "stream",
          "text": [
            "tensor(55.7000)\n",
            "tensor(75.7000)\n"
          ],
          "name": "stdout"
        }
      ]
    },
    {
      "cell_type": "code",
      "metadata": {
        "id": "lnG_ZlkBD0Rl",
        "colab": {
          "base_uri": "https://localhost:8080/"
        },
        "outputId": "bd929e0d-43b3-48c7-a98b-93e20e40b8bd"
      },
      "source": [
        "#Slicing\n",
        "print(arr1[0:3])\n",
        "print(arr1[:3])\n",
        "print(arr1[17:])\n",
        "print(arr1[:])"
      ],
      "execution_count": 5,
      "outputs": [
        {
          "output_type": "stream",
          "text": [
            "tensor([55.7000, 51.4000, 50.5000])\n",
            "tensor([55.7000, 51.4000, 50.5000])\n",
            "tensor([58.4000, 70.4000, 41.2000])\n",
            "tensor([55.7000, 51.4000, 50.5000, 75.7000, 58.4000, 40.1000, 61.5000, 57.1000,\n",
            "        60.9000, 66.6000, 60.4000, 68.1000, 66.9000, 53.4000, 48.6000, 56.8000,\n",
            "        71.6000, 58.4000, 70.4000, 41.2000])\n"
          ],
          "name": "stdout"
        }
      ]
    },
    {
      "cell_type": "code",
      "metadata": {
        "id": "BDsbldl5D0Rm",
        "colab": {
          "base_uri": "https://localhost:8080/"
        },
        "outputId": "b3696338-cdb3-4715-c5ab-a1a3ae0068a7"
      },
      "source": [
        "#Element Types\n",
        "print(arr1.dtype)\n",
        "print(torch.tensor([0, 1, 2, 3]).dtype)\n",
        "print(torch.tensor([1.0, 1.5, 2.0, 2.5]).dtype)\n",
        "print(torch.tensor([1.0, 1.5, 2.0, 2.5], dtype=torch.float64).dtype)\n",
        "print(torch.tensor([True, False, True]).dtype)"
      ],
      "execution_count": 6,
      "outputs": [
        {
          "output_type": "stream",
          "text": [
            "torch.float32\n",
            "torch.int64\n",
            "torch.float32\n",
            "torch.float64\n",
            "torch.bool\n"
          ],
          "name": "stdout"
        }
      ]
    },
    {
      "cell_type": "code",
      "metadata": {
        "id": "6gTYbczxD0Rm",
        "colab": {
          "base_uri": "https://localhost:8080/"
        },
        "outputId": "570e8e1d-b67c-4548-a7f0-a9ccad3e8ceb"
      },
      "source": [
        "# Looping - AVOID THIS!\n",
        "\n",
        "for i in range(len(arr1)):\n",
        "    element = arr1[i]\n",
        "    print(f'Array {i}-th entry has value {element}')"
      ],
      "execution_count": 7,
      "outputs": [
        {
          "output_type": "stream",
          "text": [
            "Array 0-th entry has value 55.70000076293945\n",
            "Array 1-th entry has value 51.400001525878906\n",
            "Array 2-th entry has value 50.5\n",
            "Array 3-th entry has value 75.69999694824219\n",
            "Array 4-th entry has value 58.400001525878906\n",
            "Array 5-th entry has value 40.099998474121094\n",
            "Array 6-th entry has value 61.5\n",
            "Array 7-th entry has value 57.099998474121094\n",
            "Array 8-th entry has value 60.900001525878906\n",
            "Array 9-th entry has value 66.5999984741211\n",
            "Array 10-th entry has value 60.400001525878906\n",
            "Array 11-th entry has value 68.0999984741211\n",
            "Array 12-th entry has value 66.9000015258789\n",
            "Array 13-th entry has value 53.400001525878906\n",
            "Array 14-th entry has value 48.599998474121094\n",
            "Array 15-th entry has value 56.79999923706055\n",
            "Array 16-th entry has value 71.5999984741211\n",
            "Array 17-th entry has value 58.400001525878906\n",
            "Array 18-th entry has value 70.4000015258789\n",
            "Array 19-th entry has value 41.20000076293945\n"
          ],
          "name": "stdout"
        }
      ]
    },
    {
      "cell_type": "code",
      "metadata": {
        "id": "AjPAiDQxD0Rm",
        "colab": {
          "base_uri": "https://localhost:8080/"
        },
        "outputId": "aa8b66ff-5f6c-4c83-cfeb-5bc628b47d30"
      },
      "source": [
        "# (Almost) Every numpy functions has it torch counterparts\n",
        "print(arr1.mean())\n",
        "print(arr1.std())\n",
        "print(arr1.max())\n",
        "print(arr1.sum())"
      ],
      "execution_count": 8,
      "outputs": [
        {
          "output_type": "stream",
          "text": [
            "tensor(58.6850)\n",
            "tensor(9.5809)\n",
            "tensor(75.7000)\n",
            "tensor(1173.7001)\n"
          ],
          "name": "stdout"
        }
      ]
    },
    {
      "cell_type": "markdown",
      "metadata": {
        "id": "rIitMvHaD0Rn"
      },
      "source": [
        "### Problem 1\n",
        "\n",
        "Fill in the following cell to calculate the maximum of the first half (first `len(arr1)//2` elements) and the second half of the array using slicing and the built-in `max()` method."
      ]
    },
    {
      "cell_type": "code",
      "metadata": {
        "id": "CeqQ727gD0Rn",
        "colab": {
          "base_uri": "https://localhost:8080/"
        },
        "outputId": "cfb01176-1274-4ce8-b58a-91c214c52b9b"
      },
      "source": [
        "first_half=arr1[0:9]\n",
        "second_half=arr1[10:19]\n",
        "\n",
        "max_1st_half = first_half.max()      # Replace this with your code\n",
        "max_2nd_half = second_half.max()        # Replace this with your code\n",
        "\n",
        "print(f\"Max of the 1st half: {max_1st_half}; Max of the 2nd half: {max_2nd_half}\")"
      ],
      "execution_count": 18,
      "outputs": [
        {
          "output_type": "stream",
          "text": [
            "Max of the 1st half: 75.69999694824219; Max of the 2nd half: 71.5999984741211\n"
          ],
          "name": "stdout"
        }
      ]
    },
    {
      "cell_type": "markdown",
      "metadata": {
        "id": "8XAtEMf6D0Ro"
      },
      "source": [
        "## 1D Arithmetic and Logic\n",
        "### Examples"
      ]
    },
    {
      "cell_type": "code",
      "metadata": {
        "id": "Jgz-V2lmD0Ro",
        "colab": {
          "base_uri": "https://localhost:8080/"
        },
        "outputId": "019f43d2-1583-4c1b-a433-1f7b7a23b72f"
      },
      "source": [
        "# Arithmetic operations between 2 torch tensors\n",
        "a = torch.tensor([1, 2, 3, 4])\n",
        "b = torch.tensor([1, 2, 1, 2])\n",
        "\n",
        "print(a + b)\n",
        "print(a - b)\n",
        "print(a * b)\n",
        "print(a / b)\n",
        "print(a ** b)"
      ],
      "execution_count": 19,
      "outputs": [
        {
          "output_type": "stream",
          "text": [
            "tensor([2, 4, 4, 6])\n",
            "tensor([0, 0, 2, 2])\n",
            "tensor([1, 4, 3, 8])\n",
            "tensor([1., 1., 3., 2.])\n",
            "tensor([ 1,  4,  3, 16])\n"
          ],
          "name": "stdout"
        }
      ]
    },
    {
      "cell_type": "code",
      "metadata": {
        "id": "FlfWeTyvD0Ro",
        "colab": {
          "base_uri": "https://localhost:8080/"
        },
        "outputId": "177cc71e-e80d-4b35-aebb-2646c1d1bf78"
      },
      "source": [
        "# Arithmetic operations between a torch tensor and a single number  \n",
        "a = torch.tensor([1, 2, 3, 4])\n",
        "b = 2\n",
        "\n",
        "print(a + b)\n",
        "print(a - b)\n",
        "print(a * b)\n",
        "print(a / b)\n",
        "print(a ** b)"
      ],
      "execution_count": 20,
      "outputs": [
        {
          "output_type": "stream",
          "text": [
            "tensor([3, 4, 5, 6])\n",
            "tensor([-1,  0,  1,  2])\n",
            "tensor([2, 4, 6, 8])\n",
            "tensor([0.5000, 1.0000, 1.5000, 2.0000])\n",
            "tensor([ 1,  4,  9, 16])\n"
          ],
          "name": "stdout"
        }
      ]
    },
    {
      "cell_type": "code",
      "metadata": {
        "id": "VBwlalsBD0Ro",
        "colab": {
          "base_uri": "https://localhost:8080/"
        },
        "outputId": "dbca1d88-73b8-4afa-f925-54054ccb0e4a"
      },
      "source": [
        "# Logical operations with torch tensors\n",
        "a = torch.tensor([True, True, False, False])\n",
        "b = torch.tensor([True, False, True, False])\n",
        "\n",
        "print(a & b)\n",
        "print(a | b)\n",
        "print(~a)\n",
        "\n",
        "print(a & True)\n",
        "print(a & False)\n",
        "\n",
        "print(a | True)\n",
        "print(a | False)"
      ],
      "execution_count": 21,
      "outputs": [
        {
          "output_type": "stream",
          "text": [
            "tensor([ True, False, False, False])\n",
            "tensor([ True,  True,  True, False])\n",
            "tensor([False, False,  True,  True])\n",
            "tensor([ True,  True, False, False])\n",
            "tensor([False, False, False, False])\n",
            "tensor([True, True, True, True])\n",
            "tensor([ True,  True, False, False])\n"
          ],
          "name": "stdout"
        }
      ]
    },
    {
      "cell_type": "code",
      "metadata": {
        "id": "F8bEgnxBD0Rp",
        "colab": {
          "base_uri": "https://localhost:8080/"
        },
        "outputId": "749c77d9-359f-4f54-b095-e0328173bc21"
      },
      "source": [
        "# Comparison operations of torch tensors to a number\n",
        "a = torch.tensor([1, 2, 3, 4])\n",
        "b = 2\n",
        "    \n",
        "print(a > b)\n",
        "print(a >= b)\n",
        "print(a < b)\n",
        "print(a <= b)\n",
        "print(a == b)\n",
        "print(a != b)"
      ],
      "execution_count": 22,
      "outputs": [
        {
          "output_type": "stream",
          "text": [
            "tensor([False, False,  True,  True])\n",
            "tensor([False,  True,  True,  True])\n",
            "tensor([ True, False, False, False])\n",
            "tensor([ True,  True, False, False])\n",
            "tensor([False,  True, False, False])\n",
            "tensor([ True, False,  True,  True])\n"
          ],
          "name": "stdout"
        }
      ]
    },
    {
      "cell_type": "markdown",
      "metadata": {
        "id": "IhzEkyvbD0Rp"
      },
      "source": [
        "### Problem 2\n",
        "Fill in this section to compute a `torch.tensor` containing the average of the two given arrays to achieve the effect of the following `for` loop:\n",
        "```python\n",
        "avg = []\n",
        "for i in range(len(arr1)):\n",
        "    avg.append((arr1[i] + arr2[i])/2)\n",
        "```"
      ]
    },
    {
      "cell_type": "code",
      "metadata": {
        "id": "ZFwQBunJD0Rp",
        "colab": {
          "base_uri": "https://localhost:8080/"
        },
        "outputId": "3bebe52a-eb36-440a-80ed-954696fb6805"
      },
      "source": [
        "arr1 = torch.tensor([\n",
        "    97.35583,  104.62379,  103.02998,   95.14321,  103.69019,\n",
        "    98.49185,  100.88828,   95.43974,   92.11484,   91.54804,\n",
        "    95.98029,   98.22902,   96.12179,  119.28105,   97.84627,\n",
        "    29.07386,   38.41644,   90.70509,   51.7478 ,   95.45072\n",
        "])\n",
        "\n",
        "arr2 = torch.tensor([\n",
        "     95.47622,  100.66476,   99.7926 ,   91.48936,  103.22096,\n",
        "     97.80458,  103.81398,   88.11736,   93.55611,   87.76347,\n",
        "    102.45714,   98.73953,   92.22388,  115.3892 ,   98.70502,\n",
        "     37.00692,   45.39401,   91.22084,   62.42028,   90.66958\n",
        "])\n",
        "\n",
        "'''\n",
        "    \n",
        "'''\n",
        "arr_sum = arr1+arr2\n",
        "\n",
        "arr_avg = arr_sum/2   # Replace this with your code\n",
        "\n",
        "\n",
        "print(arr_avg)"
      ],
      "execution_count": 25,
      "outputs": [
        {
          "output_type": "stream",
          "text": [
            "tensor([ 96.4160, 102.6443, 101.4113,  93.3163, 103.4556,  98.1482, 102.3511,\n",
            "         91.7785,  92.8355,  89.6558,  99.2187,  98.4843,  94.1728, 117.3351,\n",
            "         98.2756,  33.0404,  41.9052,  90.9630,  57.0840,  93.0602])\n"
          ],
          "name": "stdout"
        }
      ]
    },
    {
      "cell_type": "markdown",
      "metadata": {
        "id": "TaJt3J5RD0Rp"
      },
      "source": [
        "## 1D Boolean (Fancy and Fast) Indexing\n",
        "###  Examples"
      ]
    },
    {
      "cell_type": "code",
      "metadata": {
        "id": "OKYF-ikdD0Rq",
        "colab": {
          "base_uri": "https://localhost:8080/"
        },
        "outputId": "a74b0984-f477-4d36-b186-6cf8868f7abe"
      },
      "source": [
        "# Using index arrays\n",
        "a = torch.tensor([1, 2, 3, 4])\n",
        "b = torch.tensor([True, True, False, False])\n",
        "    \n",
        "print(a[b])\n",
        "print(a[torch.tensor([True, False, True, False])])"
      ],
      "execution_count": 26,
      "outputs": [
        {
          "output_type": "stream",
          "text": [
            "tensor([1, 2])\n",
            "tensor([1, 3])\n"
          ],
          "name": "stdout"
        }
      ]
    },
    {
      "cell_type": "code",
      "metadata": {
        "id": "4_xdKi_lD0Rq",
        "colab": {
          "base_uri": "https://localhost:8080/"
        },
        "outputId": "029218b4-d04a-473f-8384-840933a73aaf"
      },
      "source": [
        "# Creating the index array using vectorized operations (Recall ReLU implemented in class)\n",
        "a = torch.tensor([1, 2, 3, 2, 1])\n",
        "b = (a >= 2)\n",
        "    \n",
        "print(a[b])\n",
        "print(a[a >= 2])"
      ],
      "execution_count": 27,
      "outputs": [
        {
          "output_type": "stream",
          "text": [
            "tensor([2, 3, 2])\n",
            "tensor([2, 3, 2])\n"
          ],
          "name": "stdout"
        }
      ]
    },
    {
      "cell_type": "code",
      "metadata": {
        "id": "LKowpGvhD0Rq",
        "colab": {
          "base_uri": "https://localhost:8080/"
        },
        "outputId": "8d2efecf-ea47-465e-f370-14421e99b35b"
      },
      "source": [
        "# Creating the index array using vectorized operations on another array\n",
        "a = torch.tensor([1, 2, 3, 4, 5])\n",
        "b = torch.tensor([1, 2, 3, 2, 1])\n",
        "    \n",
        "print(b == 2)\n",
        "print(a[b == 2])"
      ],
      "execution_count": 28,
      "outputs": [
        {
          "output_type": "stream",
          "text": [
            "tensor([False,  True, False,  True, False])\n",
            "tensor([2, 4])\n"
          ],
          "name": "stdout"
        }
      ]
    },
    {
      "cell_type": "markdown",
      "metadata": {
        "id": "zpEbw28DD0Rq"
      },
      "source": [
        "### Problem 3\n",
        "\n",
        "Fill in the following cell using the boolean indexing vectorization technique to calculate an array that can be achieved using the following `for` loop:\n",
        "```python\n",
        "result = []\n",
        "for i in range(len(arr1)):\n",
        "    if arr1[i] < 60:\n",
        "        result.append(arr2[i])\n",
        "\n",
        "```"
      ]
    },
    {
      "cell_type": "code",
      "metadata": {
        "id": "mBvGnG-MD0Rr",
        "colab": {
          "base_uri": "https://localhost:8080/"
        },
        "outputId": "0650c355-a40d-4d60-ca10-290a17236f20"
      },
      "source": [
        "arr1 = torch.tensor([\n",
        "       12.89697233,    0.        ,   64.55043217,    0.        ,\n",
        "       24.2315615 ,   39.991625  ,    0.        ,    0.        ,\n",
        "      147.20683783,    0.        ,    0.        ,    0.        ,\n",
        "       45.18261617,  157.60454283,  133.2434615 ,   52.85000767,\n",
        "        0.        ,   54.9204785 ,   26.78142417,    0.\n",
        "])\n",
        "\n",
        "arr2 = torch.tensor([4,   5,  37,   3,  12,   \n",
        "                 4,  35,  38,   5,  37,   \n",
        "                 3,   3,  68,  38,  98,   \n",
        "                 2, 249,   2, 127,  35])\n",
        "\n",
        "'''\n",
        "\n",
        "'''\n",
        "result = arr2[arr1<60] \n",
        "\n",
        "\n",
        "\n",
        "print(result)    "
      ],
      "execution_count": 30,
      "outputs": [
        {
          "output_type": "stream",
          "text": [
            "tensor([  4,   5,   3,  12,   4,  35,  38,  37,   3,   3,  68,   2, 249,   2,\n",
            "        127,  35])\n"
          ],
          "name": "stdout"
        }
      ]
    },
    {
      "cell_type": "markdown",
      "metadata": {
        "id": "bYFLv90iD0Rr"
      },
      "source": [
        "## 2D Basic Functions: Indexing, Axis\n",
        "### Example 1"
      ]
    },
    {
      "cell_type": "code",
      "metadata": {
        "id": "MsZnaZRkD0Rr"
      },
      "source": [
        "mat1 = torch.tensor([\n",
        "    [   0,    0,    2,    5,    0],\n",
        "    [1478, 3877, 3674, 2328, 2539],\n",
        "    [1613, 4088, 3991, 6461, 2691],\n",
        "    [1560, 3392, 3826, 4787, 2613],\n",
        "    [1608, 4802, 3932, 4477, 2705],\n",
        "    [1576, 3933, 3909, 4979, 2685],\n",
        "    [  95,  229,  255,  496,  201],\n",
        "    [   2,    0,    1,   27,    0],\n",
        "    [1438, 3785, 3589, 4174, 2215],\n",
        "    [1342, 4043, 4009, 4665, 3033]\n",
        "])"
      ],
      "execution_count": 2,
      "outputs": []
    },
    {
      "cell_type": "code",
      "metadata": {
        "id": "WVl8lD4yD0Rr",
        "colab": {
          "base_uri": "https://localhost:8080/"
        },
        "outputId": "17910d8c-3272-4c0c-f607-90470df0d2ac"
      },
      "source": [
        "# Accessing elements\n",
        "print(mat1[1, 3])\n",
        "print(mat1[1:3, 3:5])\n",
        "print(mat1[1, :])"
      ],
      "execution_count": 32,
      "outputs": [
        {
          "output_type": "stream",
          "text": [
            "tensor(2328)\n",
            "tensor([[2328, 2539],\n",
            "        [6461, 2691]])\n",
            "tensor([1478, 3877, 3674, 2328, 2539])\n"
          ],
          "name": "stdout"
        }
      ]
    },
    {
      "cell_type": "code",
      "metadata": {
        "id": "-rxhCwc3D0Rs",
        "colab": {
          "base_uri": "https://localhost:8080/"
        },
        "outputId": "867bbfc3-72bb-41c5-da45-b53d525f2bcc"
      },
      "source": [
        "# Vectorized operations on rows or columns\n",
        "print(mat1[0, :] + mat1[1, :])\n",
        "print(mat1[:, 0] + mat1[:, 1])"
      ],
      "execution_count": 33,
      "outputs": [
        {
          "output_type": "stream",
          "text": [
            "tensor([1478, 3877, 3676, 2333, 2539])\n",
            "tensor([   0, 5355, 5701, 4952, 6410, 5509,  324,    2, 5223, 5385])\n"
          ],
          "name": "stdout"
        }
      ]
    },
    {
      "cell_type": "code",
      "metadata": {
        "id": "4pwPtlsgD0Rs",
        "colab": {
          "base_uri": "https://localhost:8080/"
        },
        "outputId": "4f83a442-ccd3-4f26-fd5a-25649df2b306"
      },
      "source": [
        "# Vectorized operations on entire arrays\n",
        "a = torch.tensor([[1, 2, 3], [4, 5, 6], [7, 8, 9]])\n",
        "b = torch.tensor([[1, 1, 1], [2, 2, 2], [3, 3, 3]])\n",
        "print(a + b)"
      ],
      "execution_count": 34,
      "outputs": [
        {
          "output_type": "stream",
          "text": [
            "tensor([[ 2,  3,  4],\n",
            "        [ 6,  7,  8],\n",
            "        [10, 11, 12]])\n"
          ],
          "name": "stdout"
        }
      ]
    },
    {
      "cell_type": "markdown",
      "metadata": {
        "id": "_hhllETVD0Rs"
      },
      "source": [
        "### Example 2"
      ]
    },
    {
      "cell_type": "code",
      "metadata": {
        "id": "qQ9lgvm_D0Rs",
        "colab": {
          "base_uri": "https://localhost:8080/"
        },
        "outputId": "5f7c9af2-7d0c-4ef1-9b95-2d1e8a37dd53"
      },
      "source": [
        "# torch axis argument\n",
        "a = torch.tensor([\n",
        "    [1, 2, 3],\n",
        "    [4, 5, 6],\n",
        "    [7, 8, 9]\n",
        "])\n",
        "    \n",
        "print(a.sum())\n",
        "print(a.sum(axis=0))\n",
        "print(a.sum(axis=1))"
      ],
      "execution_count": 35,
      "outputs": [
        {
          "output_type": "stream",
          "text": [
            "tensor(45)\n",
            "tensor([12, 15, 18])\n",
            "tensor([ 6, 15, 24])\n"
          ],
          "name": "stdout"
        }
      ]
    },
    {
      "cell_type": "markdown",
      "metadata": {
        "id": "ZOq0UsbID0Rs"
      },
      "source": [
        "### Problem 4\n",
        "\n",
        "\n",
        "Fill in the following cell to achieve the effect of the `for` for the array `mat1` above, store the maximum entry of each row of a list version of `mat1`:\n",
        "\n",
        "```python\n",
        "mat1 = [[   0,    0,    2,    5,    0],\n",
        "    [1478, 3877, 3674, 2328, 2539],\n",
        "    [1613, 4088, 3991, 6461, 2691],\n",
        "    [1560, 3392, 3826, 4787, 2613],\n",
        "    [1608, 4802, 3932, 4477, 2705],\n",
        "    [1576, 3933, 3909, 4979, 2685],\n",
        "    [  95,  229,  255,  496,  201],\n",
        "    [   2,    0,    1,   27,    0],\n",
        "    [1438, 3785, 3589, 4174, 2215],\n",
        "    [1342, 4043, 4009, 4665, 3033]]\n",
        "row_max = []\n",
        "for row in mat1:\n",
        "    row_max.append(max(row))\n",
        "```"
      ]
    },
    {
      "cell_type": "code",
      "metadata": {
        "id": "1Uu8NuKDD0Rt",
        "colab": {
          "base_uri": "https://localhost:8080/"
        },
        "outputId": "c10fd578-3ff5-4c8e-9766-f12519864304"
      },
      "source": [
        "\n",
        "row_max = torch.max(mat1, dim=1)\n",
        "\n",
        "print(row_max)"
      ],
      "execution_count": 16,
      "outputs": [
        {
          "output_type": "stream",
          "text": [
            "torch.return_types.max(\n",
            "values=tensor([   5, 3877, 6461, 4787, 4802, 4979,  496,   27, 4174, 4665]),\n",
            "indices=tensor([3, 1, 3, 3, 1, 3, 3, 3, 3, 3]))\n"
          ],
          "name": "stdout"
        }
      ]
    },
    {
      "cell_type": "markdown",
      "metadata": {
        "id": "9FmCSssLD0Rt"
      },
      "source": [
        "### Problem 5\n",
        "\n",
        "Fill in the following cell to achieve the effect of the `for` for the array `mat1` above, store the index of the maximum entry of each row of a list version of `mat1`:\n",
        "\n",
        "```python\n",
        "mat1 = [[   0,    0,    2,    5,    0],\n",
        "    [1478, 3877, 3674, 2328, 2539],\n",
        "    [1613, 4088, 3991, 6461, 2691],\n",
        "    [1560, 3392, 3826, 4787, 2613],\n",
        "    [1608, 4802, 3932, 4477, 2705],\n",
        "    [1576, 3933, 3909, 4979, 2685],\n",
        "    [  95,  229,  255,  496,  201],\n",
        "    [   2,    0,    1,   27,    0],\n",
        "    [1438, 3785, 3589, 4174, 2215],\n",
        "    [1342, 4043, 4009, 4665, 3033]]\n",
        "index_max = []\n",
        "for row in mat1:\n",
        "    tmp = row.index(max(row))\n",
        "    index_max.append(index_max)\n",
        "```\n",
        "\n",
        "Hint: the function `argmax()` in PyTorch may be helpful: https://pytorch.org/docs/stable/generated/torch.argmax.html, which can be either applied as a function or as a method for the tensor `a.argmax()` with an `axis=` argument."
      ]
    },
    {
      "cell_type": "code",
      "metadata": {
        "id": "4gwKL2ePD0Rt",
        "colab": {
          "base_uri": "https://localhost:8080/"
        },
        "outputId": "7fb9a133-6403-4db5-881e-148f31a2d6fe"
      },
      "source": [
        "index_max = torch.argmax(mat1, dim=1) \n",
        "\n",
        "print(index_max)"
      ],
      "execution_count": 18,
      "outputs": [
        {
          "output_type": "stream",
          "text": [
            "tensor([3, 1, 3, 3, 1, 3, 3, 3, 3, 3])\n"
          ],
          "name": "stdout"
        }
      ]
    },
    {
      "cell_type": "markdown",
      "metadata": {
        "id": "-c52FzNUD0Ru"
      },
      "source": [
        "## Runtime Comparison"
      ]
    },
    {
      "cell_type": "code",
      "metadata": {
        "id": "Huyp8l1sD0Ru"
      },
      "source": [
        "import time"
      ],
      "execution_count": 3,
      "outputs": []
    },
    {
      "cell_type": "markdown",
      "metadata": {
        "id": "dGXoQVLzD0Rv"
      },
      "source": [
        "We will need to be able to generate random numbers for hte next problem. `PyTorch` also all sorts of random number generator similar to `numpy.random` submodule. \n",
        "\n",
        "We can use `?` to access the documentation of every function, so keep it in mind for easy access to documentations! If we are in Colab or Visual Studio Code, hovering the mouse over a function pops up the documentation as well."
      ]
    },
    {
      "cell_type": "code",
      "metadata": {
        "id": "oFgZaUIQD0Rv"
      },
      "source": [
        "?torch.randn "
      ],
      "execution_count": 4,
      "outputs": []
    },
    {
      "cell_type": "markdown",
      "metadata": {
        "id": "UsQZjOI3D0Rv"
      },
      "source": [
        "\n",
        "### Problem 6\n",
        "\n",
        "Using `torch.randn` function, which takes in inputs `(n,m)`, to generate a random 2d array of `n` rows and `m` columns. \n",
        "\n",
        "Note: we should format the code as `torch.randn((2,5))` not `torch.randn(2,5)` if we want to generate a 2 by 5 random matrix."
      ]
    },
    {
      "cell_type": "code",
      "metadata": {
        "id": "zyYTCfefD0Rv",
        "colab": {
          "base_uri": "https://localhost:8080/"
        },
        "outputId": "7372f8e3-ca2e-44a6-da8e-7ecef651e6b3"
      },
      "source": [
        "\n",
        "def calculate_row_sums_loop(random_2d_array):\n",
        "    \"\"\"\n",
        "    Fill in this function to calculate row sums of 2d_array using a for loop.\n",
        "    \"\"\" \n",
        "    sum=torch.zeros(len(random_2d_array))\n",
        "    sumrow=0\n",
        "    for n in range(len(random_2d_array)) :\n",
        "        for m in range(len(random_2d_array[0])) :\n",
        "            sumrow += random_2d_array[n][m]\n",
        "        sum[n]=sumrow\n",
        " \n",
        "        # Reset the sum \n",
        "        sumrow = 0\n",
        "#    print(f'{sum}')\n",
        "    result = sum\n",
        "    return result\n",
        "\n",
        "calculate_row_sums_loop(torch.randn((2,5)))"
      ],
      "execution_count": 11,
      "outputs": [
        {
          "output_type": "execute_result",
          "data": {
            "text/plain": [
              "tensor([0.5480, 3.6725])"
            ]
          },
          "metadata": {
            "tags": []
          },
          "execution_count": 11
        }
      ]
    },
    {
      "cell_type": "code",
      "metadata": {
        "id": "LUoq31ahD0Rv"
      },
      "source": [
        "def calculate_row_sums_vec(random_2d_array):\n",
        "    \"\"\"\n",
        "    Fill in this function to calculate row sums of 2d_array \n",
        "    using pytorch builtin vectorized functions.\n",
        "    \"\"\"\n",
        "    torch.sum(random_2d_array, dim=1)\n",
        "    result = torch.sum(random_2d_array, dim=1)\n",
        "    return result\n",
        "\n"
      ],
      "execution_count": 13,
      "outputs": []
    },
    {
      "cell_type": "markdown",
      "metadata": {
        "id": "v09BbaWsD0Rw"
      },
      "source": [
        "After you done with the functions above, run this to compare runtime of for loops and numpy functions. Play with the matrix dimesions to see the effect! Hint: for the non-vectorized function it should take"
      ]
    },
    {
      "cell_type": "code",
      "metadata": {
        "id": "tKL8uluHD0Rw",
        "colab": {
          "base_uri": "https://localhost:8080/"
        },
        "outputId": "5d549535-f6f1-4373-9686-407e5f5bf565"
      },
      "source": [
        "# generate a random 2d array\n",
        "num_rows = 1000\n",
        "num_cols = 1000\n",
        "random_2d_array = torch.randn((num_rows, num_cols))\n",
        "\n",
        "start = time.time()\n",
        "# calculate row sums by for loop\n",
        "calculate_row_sums_loop(random_2d_array)\n",
        "end = time.time()\n",
        "print(f\"loop: {end - start} secs.\")\n",
        "\n",
        "start = time.time()\n",
        "# calculate row sums by for np.sum\n",
        "calculate_row_sums_vec(random_2d_array)\n",
        "end = time.time()\n",
        "print(f\"vectorized: {end - start} secs.\")"
      ],
      "execution_count": 15,
      "outputs": [
        {
          "output_type": "stream",
          "text": [
            "loop: 6.575267791748047 secs.\n",
            "vectorized: 0.0005023479461669922 secs.\n"
          ],
          "name": "stdout"
        }
      ]
    },
    {
      "cell_type": "code",
      "metadata": {
        "id": "sFNEucPvD0Rw"
      },
      "source": [
        "# extra cell"
      ],
      "execution_count": null,
      "outputs": []
    }
  ]
}